{
 "cells": [
  {
   "cell_type": "markdown",
   "metadata": {},
   "source": [
    "# Function\n",
    "### print ชื่อ XXX นามสกุล YYY รหัส ZZZ\n",
    "### print เกรด วิชา Stat 1 >> AAA"
   ]
  },
  {
   "cell_type": "code",
   "execution_count": 5,
   "metadata": {},
   "outputs": [
    {
     "name": "stdout",
     "output_type": "stream",
     "text": [
      "ชื่อ ทรงกลด นามสกุล อาจปา รหัส 603021864-1\n"
     ]
    }
   ],
   "source": [
    "a = ('ชื่อ ทรงกลด นามสกุล อาจปา รหัส 603021864-1')\n",
    "print(a)"
   ]
  },
  {
   "cell_type": "code",
   "execution_count": 6,
   "metadata": {},
   "outputs": [
    {
     "name": "stdout",
     "output_type": "stream",
     "text": [
      "ชื่อ ทรงกลด นามสกุล อาจปา รหัส 603021864-1\n"
     ]
    }
   ],
   "source": [
    "name = 'ทรงกลด'\n",
    "surname = 'อาจปา'\n",
    "ID = '603021864-1'\n",
    "b = f'ชื่อ {name} นามสกุล {surname} รหัส {ID}'\n",
    "print(b)"
   ]
  },
  {
   "cell_type": "markdown",
   "metadata": {},
   "source": [
    "# Function template\n",
    "~~~ python\n",
    "def function_name(Input):\n",
    "      do_something\n",
    "      return Output\n",
    "~~~"
   ]
  },
  {
   "cell_type": "code",
   "execution_count": 7,
   "metadata": {},
   "outputs": [],
   "source": [
    "def print_line1(name1,surname1,ID1):\n",
    "    st = f'ชื่อ {name1} นามสกุล {surname1} รหัส {ID1}'\n",
    "    return st"
   ]
  },
  {
   "cell_type": "markdown",
   "metadata": {},
   "source": [
    "## Normal function\n",
    "#### > ฟังก์ชันปกติ"
   ]
  },
  {
   "cell_type": "code",
   "execution_count": 8,
   "metadata": {},
   "outputs": [
    {
     "name": "stdout",
     "output_type": "stream",
     "text": [
      "ชื่อ กาญจนา นามสกุล ประสาคุณ รหัส 603021855-2\n"
     ]
    }
   ],
   "source": [
    "print(print_line1('กาญจนา','ประสาคุณ','603021855-2'))"
   ]
  },
  {
   "cell_type": "markdown",
   "metadata": {},
   "source": [
    "## Function without output\n",
    "#### > ฟังก์ชันที่ไม่มี output"
   ]
  },
  {
   "cell_type": "code",
   "execution_count": 9,
   "metadata": {},
   "outputs": [],
   "source": [
    "def print_2lines(name1,surname1,ID1,grade):\n",
    "      st = f'ชื่อ {name1} นามสกุล {surname1} รหัส {ID1}'\n",
    "      print (st)\n",
    "      st2 = f'เกรดวิชา Stat 1 >> {grade}'\n",
    "      print (st2)"
   ]
  },
  {
   "cell_type": "code",
   "execution_count": 10,
   "metadata": {},
   "outputs": [
    {
     "name": "stdout",
     "output_type": "stream",
     "text": [
      "ชื่อ กาญจนา นามสกุล ประสาคุณ รหัส 603021855-2\n",
      "เกรดวิชา Stat 1 >> A\n"
     ]
    }
   ],
   "source": [
    "print_2lines('กาญจนา','ประสาคุณ','603021855-2','A')"
   ]
  },
  {
   "cell_type": "code",
   "execution_count": 11,
   "metadata": {},
   "outputs": [
    {
     "name": "stdout",
     "output_type": "stream",
     "text": [
      "ชื่อ ศุภนิตา นามสกุล ดาดวน รหัส 603021129-1\n",
      "เกรดวิชา Stat 1 >> A\n",
      "ชื่อ กัญญ์รินทร์ นามสกุล อินทจันทร์ รหัส 603021854-4\n",
      "เกรดวิชา Stat 1 >> A\n",
      "ชื่อ ภูวนัตถ์ นามสกุล จันทะกล รหัส 603021111-0\n",
      "เกรดวิชา Stat 1 >> A\n"
     ]
    }
   ],
   "source": [
    "print_2lines('ศุภนิตา','ดาดวน','603021129-1','A')\n",
    "print_2lines('กัญญ์รินทร์','อินทจันทร์','603021854-4','A')\n",
    "print_2lines('ภูวนัตถ์','จันทะกล','603021111-0','A')"
   ]
  },
  {
   "cell_type": "markdown",
   "metadata": {},
   "source": [
    "## Error"
   ]
  },
  {
   "cell_type": "code",
   "execution_count": 12,
   "metadata": {},
   "outputs": [
    {
     "ename": "IndentationError",
     "evalue": "unexpected indent (<ipython-input-12-1a001a3abd83>, line 5)",
     "output_type": "error",
     "traceback": [
      "\u001b[1;36m  File \u001b[1;32m\"<ipython-input-12-1a001a3abd83>\"\u001b[1;36m, line \u001b[1;32m5\u001b[0m\n\u001b[1;33m    print (st2)\u001b[0m\n\u001b[1;37m    ^\u001b[0m\n\u001b[1;31mIndentationError\u001b[0m\u001b[1;31m:\u001b[0m unexpected indent\n"
     ]
    }
   ],
   "source": [
    "def print_2lines(name1,surname1,ID1,grade):\n",
    "      st = f'ชื่อ {name1} นามสกุล {surname1} รหัส {ID1}'\n",
    "      print (st)\n",
    "      st2 = f'เกรดวิชา Stat 1 >> {grade}'\n",
    "        print (st2) #เว้นวรรคไม่ตรงจะเกิด error"
   ]
  },
  {
   "cell_type": "code",
   "execution_count": 13,
   "metadata": {},
   "outputs": [],
   "source": [
    "def print_2lines(name1,surname1,ID1,grade):\n",
    "      st = f'ชื่อ {name1} นามสกุล {surname1} รหัส {ID1}'\n",
    "      print (st)\n",
    "      return st #ใช้คำสั่ง return ไปแล้ว จากนั้นมันจะไม่รันผล\n",
    "      st2 = f'เกรดวิชา Stat 1 >> {grade}'\n",
    "      print (st2)"
   ]
  },
  {
   "cell_type": "code",
   "execution_count": 14,
   "metadata": {},
   "outputs": [
    {
     "name": "stdout",
     "output_type": "stream",
     "text": [
      "ชื่อ กาญจนา นามสกุล ประสาคุณ รหัส 603021855-2\n"
     ]
    },
    {
     "data": {
      "text/plain": [
       "'ชื่อ กาญจนา นามสกุล ประสาคุณ รหัส 603021855-2'"
      ]
     },
     "execution_count": 14,
     "metadata": {},
     "output_type": "execute_result"
    }
   ],
   "source": [
    "print_2lines('กาญจนา','ประสาคุณ','603021855-2','A')"
   ]
  },
  {
   "cell_type": "markdown",
   "metadata": {},
   "source": [
    "## Function without input\n",
    "#### > ฟังก์ชันที่ไม่มี input"
   ]
  },
  {
   "cell_type": "code",
   "execution_count": 15,
   "metadata": {},
   "outputs": [],
   "source": [
    "def two_x_three():\n",
    "      x = 2*3\n",
    "      return x\n"
   ]
  },
  {
   "cell_type": "code",
   "execution_count": 16,
   "metadata": {},
   "outputs": [
    {
     "data": {
      "text/plain": [
       "6"
      ]
     },
     "execution_count": 16,
     "metadata": {},
     "output_type": "execute_result"
    }
   ],
   "source": [
    "two_x_three()"
   ]
  },
  {
   "cell_type": "markdown",
   "metadata": {},
   "source": [
    "## function with default argument"
   ]
  },
  {
   "cell_type": "code",
   "execution_count": 17,
   "metadata": {},
   "outputs": [],
   "source": [
    "def print_2lines_default (name1,surname1,ID1,grade='F'):\n",
    "      st = f'ชื่อ {name1} นามสกุล {surname1} รหัส {ID1}'\n",
    "      print (st)\n",
    "      st2 = f'เกรดวิชา Stat 1 >> {grade}'\n",
    "      print (st2)"
   ]
  },
  {
   "cell_type": "code",
   "execution_count": 18,
   "metadata": {},
   "outputs": [
    {
     "name": "stdout",
     "output_type": "stream",
     "text": [
      "ชื่อ กาญจนา นามสกุล ประสาคุณ รหัส 603021855-2\n",
      "เกรดวิชา Stat 1 >> F\n"
     ]
    }
   ],
   "source": [
    "print_2lines_default('กาญจนา','ประสาคุณ','603021855-2')  #ไม่ใส่เกรดมันจะรันผลเป็นเกรดF"
   ]
  },
  {
   "cell_type": "code",
   "execution_count": 19,
   "metadata": {},
   "outputs": [
    {
     "name": "stdout",
     "output_type": "stream",
     "text": [
      "ชื่อ กาญจนา นามสกุล ประสาคุณ รหัส 603021855-2\n",
      "เกรดวิชา Stat 1 >> A+\n"
     ]
    }
   ],
   "source": [
    "print_2lines_default('กาญจนา','ประสาคุณ','603021855-2','A+') #ใส่เกรดจะรันผลตามปกติ"
   ]
  },
  {
   "cell_type": "code",
   "execution_count": 20,
   "metadata": {},
   "outputs": [
    {
     "name": "stdout",
     "output_type": "stream",
     "text": [
      "ชื่อ ประสาคุณ นามสกุล กาญจนา รหัส 603021855-2\n",
      "เกรดวิชา Stat 1 >> F\n"
     ]
    }
   ],
   "source": [
    "print_2lines_default(surname1 = 'กาญจนา',name1 = 'ประสาคุณ',ID1 = '603021855-2')"
   ]
  },
  {
   "cell_type": "markdown",
   "metadata": {},
   "source": [
    "# Loop (วนซ้ำ)"
   ]
  },
  {
   "cell_type": "markdown",
   "metadata": {},
   "source": [
    "```python\n",
    "for each_member in listA:\n",
    "     do something\n",
    "```"
   ]
  },
  {
   "cell_type": "code",
   "execution_count": 21,
   "metadata": {},
   "outputs": [
    {
     "name": "stdout",
     "output_type": "stream",
     "text": [
      "1\n",
      "2\n",
      "3\n"
     ]
    }
   ],
   "source": [
    "for i in [1,2,3]:\n",
    "     print(i)"
   ]
  },
  {
   "cell_type": "code",
   "execution_count": 22,
   "metadata": {},
   "outputs": [
    {
     "name": "stdout",
     "output_type": "stream",
     "text": [
      "S -> /\n",
      " \n",
      "o -> /\n",
      " \n",
      "n -> /\n",
      " \n",
      "g -> /\n",
      " \n",
      "k -> /\n",
      " \n",
      "l -> /\n",
      " \n",
      "o -> /\n",
      " \n",
      "t -> /\n",
      " \n"
     ]
    }
   ],
   "source": [
    "for i in 'Songklot':\n",
    "     print(f'{i} -> /') #ทีละตัว\n",
    "     print(' ') #ช่องว่าง"
   ]
  },
  {
   "cell_type": "markdown",
   "metadata": {},
   "source": [
    "### 1 สร้าง list ชื่อเพื่อนที่อยู่ในแถวยาวเดียวกัน\n",
    "###    1.5 วนลูป print ประโยคว่า xxx yyy zzz (เรา รัก เพื่อน) ทุกคนในแถวยาว\n",
    "### 2 วนลูปเรียก function โดยเปลี่ยนชื่อเพื่อนไปเรื่อยๆ"
   ]
  },
  {
   "cell_type": "code",
   "execution_count": 23,
   "metadata": {},
   "outputs": [],
   "source": [
    "list_b = ['นกยูง','นัท','โด้','เกด','ฟาง','ไอซ์','แบงค์']"
   ]
  },
  {
   "cell_type": "markdown",
   "metadata": {},
   "source": [
    "### Function in loop"
   ]
  },
  {
   "cell_type": "code",
   "execution_count": 24,
   "metadata": {},
   "outputs": [
    {
     "name": "stdout",
     "output_type": "stream",
     "text": [
      "บอสส์ รัก นกยูง \n",
      " \n",
      "บอสส์ รัก นัท \n",
      " \n",
      "บอสส์ รัก โด้ \n",
      " \n",
      "บอสส์ รัก เกด \n",
      " \n",
      "บอสส์ รัก ฟาง \n",
      " \n",
      "บอสส์ รัก ไอซ์ \n",
      " \n",
      "บอสส์ รัก แบงค์ \n",
      " \n"
     ]
    }
   ],
   "source": [
    "for b in list_b:\n",
    "     print(f'บอสส์ รัก {b} ')\n",
    "     print(' ')"
   ]
  },
  {
   "cell_type": "code",
   "execution_count": 25,
   "metadata": {},
   "outputs": [],
   "source": [
    "def print_feeling(I,feeling,friend):\n",
    "      print(f'{I}{feeling}{friend}')"
   ]
  },
  {
   "cell_type": "code",
   "execution_count": 26,
   "metadata": {},
   "outputs": [
    {
     "name": "stdout",
     "output_type": "stream",
     "text": [
      "บอสส์รักนกยูง\n"
     ]
    }
   ],
   "source": [
    "print_feeling('บอสส์','รัก','นกยูง')"
   ]
  },
  {
   "cell_type": "code",
   "execution_count": 27,
   "metadata": {},
   "outputs": [
    {
     "name": "stdout",
     "output_type": "stream",
     "text": [
      "บอสส์รักนกยูง\n",
      "บอสส์รักนัท\n",
      "บอสส์รักโด้\n",
      "บอสส์รักเกด\n",
      "บอสส์รักฟาง\n",
      "บอสส์รักไอซ์\n",
      "บอสส์รักแบงค์\n"
     ]
    }
   ],
   "source": [
    "for b in list_b:\n",
    "      print_feeling('บอสส์','รัก',b)"
   ]
  },
  {
   "cell_type": "markdown",
   "metadata": {},
   "source": [
    "### Loop in function"
   ]
  },
  {
   "cell_type": "code",
   "execution_count": 28,
   "metadata": {},
   "outputs": [],
   "source": [
    "def print_feelings(I,feeling,friend):\n",
    "      for b in friend:\n",
    "            print(f'{I}{feeling}{b}')"
   ]
  },
  {
   "cell_type": "code",
   "execution_count": 29,
   "metadata": {},
   "outputs": [
    {
     "name": "stdout",
     "output_type": "stream",
     "text": [
      "บอสส์รักนกยูง\n",
      "บอสส์รักนัท\n",
      "บอสส์รักโด้\n",
      "บอสส์รักเกด\n",
      "บอสส์รักฟาง\n",
      "บอสส์รักไอซ์\n",
      "บอสส์รักแบงค์\n"
     ]
    }
   ],
   "source": [
    "print_feelings('บอสส์','รัก',list_b)"
   ]
  },
  {
   "cell_type": "markdown",
   "metadata": {},
   "source": [
    "## Looping in dict"
   ]
  },
  {
   "cell_type": "code",
   "execution_count": 30,
   "metadata": {},
   "outputs": [
    {
     "data": {
      "text/plain": [
       "{'ทรงกลด': 'A', 'ศุภนิตา': 'B', 'ปนัดดา': 'C', 'พันทิพา': 'F'}"
      ]
     },
     "execution_count": 30,
     "metadata": {},
     "output_type": "execute_result"
    }
   ],
   "source": [
    "name_grade = {'ทรงกลด':'A','ศุภนิตา':'B','ปนัดดา':'C','พันทิพา':'F'}\n",
    "name_grade"
   ]
  },
  {
   "cell_type": "code",
   "execution_count": 31,
   "metadata": {},
   "outputs": [
    {
     "data": {
      "text/plain": [
       "'C'"
      ]
     },
     "execution_count": 31,
     "metadata": {},
     "output_type": "execute_result"
    }
   ],
   "source": [
    "name_grade['ปนัดดา']"
   ]
  },
  {
   "cell_type": "code",
   "execution_count": 32,
   "metadata": {},
   "outputs": [
    {
     "data": {
      "text/plain": [
       "dict_keys(['ทรงกลด', 'ศุภนิตา', 'ปนัดดา', 'พันทิพา'])"
      ]
     },
     "execution_count": 32,
     "metadata": {},
     "output_type": "execute_result"
    }
   ],
   "source": [
    "name_grade.keys()"
   ]
  },
  {
   "cell_type": "code",
   "execution_count": 33,
   "metadata": {},
   "outputs": [
    {
     "name": "stdout",
     "output_type": "stream",
     "text": [
      "ทรงกลด ได้เกรด A\n",
      "ศุภนิตา ได้เกรด B\n",
      "ปนัดดา ได้เกรด C\n",
      "พันทิพา ได้เกรด F\n"
     ]
    }
   ],
   "source": [
    "for i in name_grade.keys():\n",
    "      print(f'{i} ได้เกรด {name_grade[i]}')"
   ]
  },
  {
   "cell_type": "markdown",
   "metadata": {},
   "source": [
    "## Loop in loop"
   ]
  },
  {
   "cell_type": "code",
   "execution_count": 34,
   "metadata": {},
   "outputs": [
    {
     "name": "stdout",
     "output_type": "stream",
     "text": [
      "นกยูงรักนกยูง\n",
      "นกยูงรักนัท\n",
      "นกยูงรักโด้\n",
      "นกยูงรักเกด\n",
      "นกยูงรักฟาง\n",
      "นกยูงรักไอซ์\n",
      "นกยูงรักแบงค์\n",
      "นัทรักนกยูง\n",
      "นัทรักนัท\n",
      "นัทรักโด้\n",
      "นัทรักเกด\n",
      "นัทรักฟาง\n",
      "นัทรักไอซ์\n",
      "นัทรักแบงค์\n",
      "โด้รักนกยูง\n",
      "โด้รักนัท\n",
      "โด้รักโด้\n",
      "โด้รักเกด\n",
      "โด้รักฟาง\n",
      "โด้รักไอซ์\n",
      "โด้รักแบงค์\n",
      "เกดรักนกยูง\n",
      "เกดรักนัท\n",
      "เกดรักโด้\n",
      "เกดรักเกด\n",
      "เกดรักฟาง\n",
      "เกดรักไอซ์\n",
      "เกดรักแบงค์\n",
      "ฟางรักนกยูง\n",
      "ฟางรักนัท\n",
      "ฟางรักโด้\n",
      "ฟางรักเกด\n",
      "ฟางรักฟาง\n",
      "ฟางรักไอซ์\n",
      "ฟางรักแบงค์\n",
      "ไอซ์รักนกยูง\n",
      "ไอซ์รักนัท\n",
      "ไอซ์รักโด้\n",
      "ไอซ์รักเกด\n",
      "ไอซ์รักฟาง\n",
      "ไอซ์รักไอซ์\n",
      "ไอซ์รักแบงค์\n",
      "แบงค์รักนกยูง\n",
      "แบงค์รักนัท\n",
      "แบงค์รักโด้\n",
      "แบงค์รักเกด\n",
      "แบงค์รักฟาง\n",
      "แบงค์รักไอซ์\n",
      "แบงค์รักแบงค์\n"
     ]
    }
   ],
   "source": [
    "for name1 in list_b:\n",
    "    for name2 in list_b:\n",
    "          print_feeling(name1,'รัก',name2)"
   ]
  },
  {
   "cell_type": "markdown",
   "metadata": {},
   "source": [
    "# Conditional (เงื่อนไข)"
   ]
  },
  {
   "cell_type": "markdown",
   "metadata": {},
   "source": [
    "# == , != , >= , <= , > , <"
   ]
  },
  {
   "cell_type": "markdown",
   "metadata": {},
   "source": [
    "```python\n",
    "if condition1:\n",
    "    do something\n",
    "elif condition2:\n",
    "    do another thing\n",
    "else: \n",
    "    do ...\n",
    "```"
   ]
  },
  {
   "cell_type": "code",
   "execution_count": 35,
   "metadata": {},
   "outputs": [
    {
     "name": "stdout",
     "output_type": "stream",
     "text": [
      "นกยูงรักนัท\n",
      "นกยูงรักโด้\n",
      "นกยูงรักเกด\n",
      "นกยูงรักฟาง\n",
      "นกยูงรักไอซ์\n",
      "นกยูงรักแบงค์\n",
      "นัทรักนกยูง\n",
      "นัทรักโด้\n",
      "นัทรักเกด\n",
      "นัทรักฟาง\n",
      "นัทรักไอซ์\n",
      "นัทรักแบงค์\n",
      "โด้รักนกยูง\n",
      "โด้รักนัท\n",
      "โด้รักเกด\n",
      "โด้รักฟาง\n",
      "โด้รักไอซ์\n",
      "โด้รักแบงค์\n",
      "เกดรักนกยูง\n",
      "เกดรักนัท\n",
      "เกดรักโด้\n",
      "เกดรักฟาง\n",
      "เกดรักไอซ์\n",
      "เกดรักแบงค์\n",
      "ฟางรักนกยูง\n",
      "ฟางรักนัท\n",
      "ฟางรักโด้\n",
      "ฟางรักเกด\n",
      "ฟางรักไอซ์\n",
      "ฟางรักแบงค์\n",
      "ไอซ์รักนกยูง\n",
      "ไอซ์รักนัท\n",
      "ไอซ์รักโด้\n",
      "ไอซ์รักเกด\n",
      "ไอซ์รักฟาง\n",
      "ไอซ์รักแบงค์\n",
      "แบงค์รักนกยูง\n",
      "แบงค์รักนัท\n",
      "แบงค์รักโด้\n",
      "แบงค์รักเกด\n",
      "แบงค์รักฟาง\n",
      "แบงค์รักไอซ์\n"
     ]
    }
   ],
   "source": [
    "for name1 in list_b:\n",
    "    for name2 in list_b:\n",
    "        if name1 != name2:\n",
    "          print_feeling(name1,'รัก',name2)"
   ]
  },
  {
   "cell_type": "code",
   "execution_count": 36,
   "metadata": {},
   "outputs": [
    {
     "name": "stdout",
     "output_type": "stream",
     "text": [
      "Yes\n"
     ]
    }
   ],
   "source": [
    "if True:\n",
    "    print('Yes')"
   ]
  },
  {
   "cell_type": "code",
   "execution_count": 37,
   "metadata": {},
   "outputs": [],
   "source": [
    "if False:\n",
    "    print('No')"
   ]
  },
  {
   "cell_type": "code",
   "execution_count": 38,
   "metadata": {},
   "outputs": [
    {
     "name": "stdout",
     "output_type": "stream",
     "text": [
      "No\n"
     ]
    }
   ],
   "source": [
    "if False:\n",
    "    print('Yes')\n",
    "else:\n",
    "    print('No')"
   ]
  },
  {
   "cell_type": "code",
   "execution_count": 39,
   "metadata": {},
   "outputs": [
    {
     "data": {
      "text/plain": [
       "True"
      ]
     },
     "execution_count": 39,
     "metadata": {},
     "output_type": "execute_result"
    }
   ],
   "source": [
    "1 == 1"
   ]
  },
  {
   "cell_type": "code",
   "execution_count": 40,
   "metadata": {},
   "outputs": [
    {
     "name": "stdout",
     "output_type": "stream",
     "text": [
      "1=1\n"
     ]
    }
   ],
   "source": [
    "if 1 == 1:\n",
    "    print('1=1')"
   ]
  },
  {
   "cell_type": "markdown",
   "metadata": {},
   "source": [
    "# HW \n",
    "เขียน funcion ตัดเกรด โดยที่ input เป็น คะแนน(0-100) output เป็น เกรด(F-A)\n",
    "\n",
    "input = [1,50,65,90,101,-5,49]"
   ]
  },
  {
   "cell_type": "code",
   "execution_count": 1,
   "metadata": {},
   "outputs": [],
   "source": [
    "def grade(i):\n",
    "    if i < 50:\n",
    "        print(f'{i} get F')\n",
    "    elif 50 >= i < 55:\n",
    "        print(f'{i} get D')\n",
    "    elif 55 >= i < 60:\n",
    "        print(f'{i} get D+')\n",
    "    elif 60 >= i < 65:\n",
    "        print(f'{i} get C')\n",
    "    elif 65 >= i < 70:\n",
    "        print(f'{i} get C+')\n",
    "    elif 70 >= i < 75:\n",
    "        print(f'{i} get B')\n",
    "    elif 75 >= i < 80:\n",
    "        print(f'{i} get B+')\n",
    "    else:\n",
    "        print(f'{i} get A')"
   ]
  },
  {
   "cell_type": "code",
   "execution_count": 2,
   "metadata": {},
   "outputs": [
    {
     "name": "stdout",
     "output_type": "stream",
     "text": [
      "1 get F\n",
      "50 get D\n",
      "65 get C+\n",
      "90 get A\n",
      "101 get A\n",
      "-5 get F\n",
      "49 get F\n"
     ]
    }
   ],
   "source": [
    "grade(1)\n",
    "grade(50)\n",
    "grade(65)\n",
    "grade(90)\n",
    "grade(101)\n",
    "grade(-5)\n",
    "grade(49)"
   ]
  },
  {
   "cell_type": "code",
   "execution_count": null,
   "metadata": {},
   "outputs": [],
   "source": []
  }
 ],
 "metadata": {
  "kernelspec": {
   "display_name": "Python 3",
   "language": "python",
   "name": "python3"
  },
  "language_info": {
   "codemirror_mode": {
    "name": "ipython",
    "version": 3
   },
   "file_extension": ".py",
   "mimetype": "text/x-python",
   "name": "python",
   "nbconvert_exporter": "python",
   "pygments_lexer": "ipython3",
   "version": "3.7.3"
  }
 },
 "nbformat": 4,
 "nbformat_minor": 2
}
